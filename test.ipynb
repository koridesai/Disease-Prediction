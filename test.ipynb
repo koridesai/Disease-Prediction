{
 "cells": [
  {
   "cell_type": "code",
   "execution_count": 20,
   "id": "86cf191e",
   "metadata": {},
   "outputs": [],
   "source": [
    "import pandas as pd"
   ]
  },
  {
   "cell_type": "code",
   "execution_count": 21,
   "id": "bbf015c9",
   "metadata": {},
   "outputs": [],
   "source": [
    "data=pd.read_csv(\"Symptom-severity.csv\")\n",
    "test=[]"
   ]
  },
  {
   "cell_type": "code",
   "execution_count": 22,
   "id": "eee9f3f0",
   "metadata": {},
   "outputs": [],
   "source": [
    "symptom = []"
   ]
  },
  {
   "cell_type": "code",
   "execution_count": 23,
   "id": "c7c8a4d7",
   "metadata": {},
   "outputs": [],
   "source": [
    "symptom.append(\"skin_rash\")"
   ]
  },
  {
   "cell_type": "code",
   "execution_count": 24,
   "id": "dcc8b7a5",
   "metadata": {},
   "outputs": [],
   "source": [
    "for i in range(1):\n",
    "        for j in range(len(data[\"Symptom\"])):\n",
    "            if symptom[i] == data[\"Symptom\"][j]:\n",
    "                test.append(data[\"weight\"][j])"
   ]
  },
  {
   "cell_type": "code",
   "execution_count": 25,
   "id": "8ee73755",
   "metadata": {},
   "outputs": [
    {
     "name": "stdout",
     "output_type": "stream",
     "text": [
      "[3]\n"
     ]
    }
   ],
   "source": [
    "print(test)"
   ]
  },
  {
   "cell_type": "code",
   "execution_count": null,
   "id": "51ccdf9d",
   "metadata": {},
   "outputs": [],
   "source": []
  }
 ],
 "metadata": {
  "kernelspec": {
   "display_name": "Python 3 (ipykernel)",
   "language": "python",
   "name": "python3"
  },
  "language_info": {
   "codemirror_mode": {
    "name": "ipython",
    "version": 3
   },
   "file_extension": ".py",
   "mimetype": "text/x-python",
   "name": "python",
   "nbconvert_exporter": "python",
   "pygments_lexer": "ipython3",
   "version": "3.8.13"
  }
 },
 "nbformat": 4,
 "nbformat_minor": 5
}
